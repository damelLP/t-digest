{
 "cells": [
  {
   "cell_type": "code",
   "execution_count": 31,
   "id": "7bda8df8-7a9e-43c1-b063-04d9c4402a8d",
   "metadata": {},
   "outputs": [],
   "source": [
    "import numpy as np"
   ]
  },
  {
   "cell_type": "markdown",
   "id": "381d3c2e-38dd-49b9-bc4c-1cd8ca2a3330",
   "metadata": {},
   "source": [
    "link: https://www.symbolab.com/solver/function-inverse-calculator/inverse%20f%5Cleft(x%5Cright)%3D%5Cfrac%7B%CE%B4%7D%7B4%20%5Ccdot%5Clog_%7B2%7D%5Cleft(%5Cfrac%7Bn%7D%7B%CE%B4%7D%5Cright)%2B%2024%20%7D%5Ccdot%5Clog_%7B2%7D%5Cleft(%5Cfrac%7Bx%7D%7B1-x%7D%5Cright)?or=input\n",
    "\n",
    "scale func:\n",
    "$$\n",
    "\\frac{δ}{4\\cdot \\log _2\\left(\\frac{n}{δ}\\right)+24}\\cdot \\log _2\\left(\\frac{x}{1-x}\\right):\n",
    "$$\n",
    "\n",
    "inverse:\n",
    "\n",
    "$$\n",
    "\\frac{10^{\\frac{4x\\log _{10}\\left(\\frac{n}{δ}\\right)+24x}{δ}}}{1+10^{\\frac{4x\\left(6+\\log _{10}\\left(\\frac{n}{δ}\\right)\\right)}{δ}}}\n",
    "$$"
   ]
  },
  {
   "cell_type": "code",
   "execution_count": 32,
   "id": "e43cb547-08c7-43eb-b954-a5e24af1bc07",
   "metadata": {},
   "outputs": [],
   "source": [
    "k2 = lambda q: np.log10(q / (1-q)) * delta / (4 + np.log10(S/delta) + 24)"
   ]
  },
  {
   "cell_type": "code",
   "execution_count": 33,
   "id": "b232195f-be58-4826-8669-e1daac5d83d3",
   "metadata": {},
   "outputs": [],
   "source": [
    "k2_inverse = lambda q:(10**((4 * q * np.log10(S / delta) + 24 * q) / delta)) / (1 + 10**((4 * q * (6 + np.log10(S / delta)))/ delta))"
   ]
  },
  {
   "cell_type": "code",
   "execution_count": 34,
   "id": "ff4c3b51-b133-493b-b750-362c2c306f4e",
   "metadata": {},
   "outputs": [],
   "source": [
    "limit_fn = lambda q: k2_inverse(k2(q) + 1)"
   ]
  },
  {
   "cell_type": "code",
   "execution_count": 65,
   "id": "e80d3694-07a5-4134-bdb0-98d94d0bdbae",
   "metadata": {},
   "outputs": [],
   "source": [
    "data = np.random.rand(200_000)\n",
    "\n",
    "X = np.empty((data.shape[0], 2))\n",
    "\n",
    "X[:,0] = data\n",
    "X[:,1] = np.ones(data.shape)\n",
    "S = len(X)\n",
    "delta = 200\n",
    "\n",
    "X = X[np.argsort(X[:,0])]"
   ]
  },
  {
   "cell_type": "code",
   "execution_count": 66,
   "id": "da993e95-e806-40f1-b503-266078a89561",
   "metadata": {},
   "outputs": [],
   "source": [
    "def merge(X):\n",
    "    result = []\n",
    "    q0 = 0\n",
    "    qlimit = limit_fn(q0)\n",
    "    sig_sum,sig_count = X[0,0] * X[0,1], X[0,1]\n",
    "    for imean, icount in X[2:]:\n",
    "        isum = imean * icount\n",
    "        q = q0 + (sig_count + icount)/S\n",
    "        if q <= qlimit:\n",
    "            sig_sum, sig_count = sig_sum + isum, sig_count + icount\n",
    "        else:\n",
    "            result.append([sig_sum/sig_count, sig_count])\n",
    "            q0 = q0 + sig_count/S\n",
    "            qlimit = limit_fn(q)\n",
    "            sig_sum, sig_count = isum, icount\n",
    "    result.append([sig_sum/sig_count, sig_count])\n",
    "    return np.array(result)"
   ]
  },
  {
   "cell_type": "code",
   "execution_count": 67,
   "id": "c219bd62-f3c1-4555-b468-e5cb3fc289de",
   "metadata": {},
   "outputs": [
    {
     "name": "stderr",
     "output_type": "stream",
     "text": [
      "/tmp/ipykernel_5314/2799697774.py:1: RuntimeWarning: divide by zero encountered in log10\n",
      "  k2 = lambda q: np.log10(q / (1-q)) * delta / (4 + np.log10(S/delta) + 24)\n"
     ]
    }
   ],
   "source": [
    "digest = merge(X)"
   ]
  },
  {
   "cell_type": "code",
   "execution_count": 68,
   "id": "bb843f22-0107-4679-9a97-e2d64fbb1f5e",
   "metadata": {},
   "outputs": [],
   "source": [
    "import matplotlib.pyplot as plt\n",
    "plt.rcParams[\"figure.figsize\"] = (18.0,8.0)"
   ]
  }
 ],
 "metadata": {
  "kernelspec": {
   "display_name": "Python 3",
   "language": "python",
   "name": "python3"
  },
  "language_info": {
   "codemirror_mode": {
    "name": "ipython",
    "version": 3
   },
   "file_extension": ".py",
   "mimetype": "text/x-python",
   "name": "python",
   "nbconvert_exporter": "python",
   "pygments_lexer": "ipython3",
   "version": "3.10.5"
  }
 },
 "nbformat": 4,
 "nbformat_minor": 5
}
